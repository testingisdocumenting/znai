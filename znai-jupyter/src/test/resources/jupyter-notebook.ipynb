{
  "cells": [
    {
      "cell_type": "code",
      "execution_count": 8,
      "metadata": {},
      "outputs": [],
      "source": [
        "from pandas import read_csv\n",
        "from IPython.display import display"
      ]
    },
    {
      "cell_type": "code",
      "execution_count": 13,
      "metadata": {},
      "outputs": [
        {
          "name": "stdout",
          "output_type": "stream",
          "text": [
            "   a   b   c\n",
            "0  1   2   3\n",
            "1  4   5   6\n"
          ]
        }
      ],
      "source": [
        "tran = read_csv('transport.csv')\n",
        "print(tran)"
      ]
    },
    {
      "cell_type": "code",
      "execution_count": 14,
      "metadata": {},
      "outputs": [
        {
          "data": {
            "text/html": [
              "<table border=\"1\" class=\"dataframe\">\n",
              "  <thead>\n",
              "  </thead>\n",
              "</table>\n"
            ],
            "text/plain": [
              "   a   b   c\n",
              "0  1   2   3\n",
              "1  4   5   6"
            ]
          },
          "metadata": {},
          "output_type": "display_data"
        }
      ],
      "source": [
        "display(tran)"
      ]
    },
    {
      "cell_type": "markdown",
      "metadata": {},
      "source": [
        "# this is great\n",
        "\n",
        "like good **old** times"
      ]
    }
  ],
  "metadata": {
    "kernelspec": {
      "display_name": "Python 3",
      "language": "python",
      "name": "python3"
    },
    "language_info": {
      "codemirror_mode": {
        "name": "ipython",
        "version": 3
      },
      "file_extension": ".py",
      "mimetype": "text/x-python",
      "name": "python",
      "nbconvert_exporter": "python",
      "pygments_lexer": "ipython3",
      "version": "3.6.4"
    }
  },
  "nbformat": 4,
  "nbformat_minor": 2
}
